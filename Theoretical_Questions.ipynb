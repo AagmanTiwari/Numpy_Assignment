{
 "cells": [
  {
   "cell_type": "code",
   "execution_count": 2,
   "id": "3efb70ef-dd22-4ab3-bb46-43367bc65b86",
   "metadata": {},
   "outputs": [],
   "source": [
    "#  1. Explain the purpose and advantages of NumPy in scientific computing and data analysis. How does it \n",
    "# enhance Python's capabilities for numerical operations?\n",
    "\n",
    "# NumPy in Scientific Computing and Data Analysis:\n",
    "\n",
    "# Purpose: NumPy provides powerful tools for numerical computing. It includes support for arrays, matrices, and a vast collection of mathematical functions to operate on these data structures efficiently.\n",
    "\n",
    "# Advantages:\n",
    "\n",
    "# Performance: NumPy's operations are highly optimized and executed in compiled C code.\n",
    "\n",
    "# Convenience: Supports extensive functionality like linear algebra, random number generation, Fourier transforms, and more.\n",
    "\n",
    "# Integration: Works seamlessly with other libraries like SciPy, Pandas, and Matplotlib.\n",
    "\n",
    "# Memory Efficiency: Uses contiguous memory blocks for arrays, making operations on large datasets faster."
   ]
  },
  {
   "cell_type": "code",
   "execution_count": 3,
   "id": "08931cc4-ec80-41b5-b5d9-ee94f146ca32",
   "metadata": {},
   "outputs": [],
   "source": [
    "#  2. Compare and contrast np.mean() and np.average() functions in NumPy. When would you use one over the \n",
    "# other?\n",
    "\n",
    "# np.mean() vs np.average():\n",
    "\n",
    "# np.mean(): Calculates the arithmetic mean along the specified axis.\n",
    "\n",
    "# np.average(): Computes the weighted average if weights are provided, otherwise behaves like np.mean().\n",
    "\n",
    "# When to use: Use np.mean() for a straightforward average calculation. Use np.average() when different elements have different significance.\n"
   ]
  },
  {
   "cell_type": "code",
   "execution_count": 4,
   "id": "51a842e0-f8c0-4e35-ac31-a71e818c8859",
   "metadata": {},
   "outputs": [
    {
     "name": "stdout",
     "output_type": "stream",
     "text": [
      "3.0\n",
      "3.6666666666666665\n"
     ]
    }
   ],
   "source": [
    "\n",
    "import numpy as np\n",
    "data = np.array([1, 2, 3, 4, 5])\n",
    "print(np.mean(data))  # 3.0\n",
    "print(np.average(data, weights=[1, 2, 3, 4, 5]))  # 3.6667"
   ]
  },
  {
   "cell_type": "code",
   "execution_count": 5,
   "id": "642d6445-d5ed-4408-99ac-135ef912273f",
   "metadata": {},
   "outputs": [
    {
     "name": "stdout",
     "output_type": "stream",
     "text": [
      "[5 4 3 2 1]\n"
     ]
    }
   ],
   "source": [
    "#  3. Describe the methods for reversing a NumPy array along different axes. Provide examples for 1D and 2D \n",
    "# arrays.\n",
    "# Reversing a NumPy Array:\n",
    "\n",
    "# 1D Array:\n",
    "arr = np.array([1, 2, 3, 4, 5])\n",
    "print(arr[::-1])  # [5, 4, 3, 2, 1]\n"
   ]
  },
  {
   "cell_type": "code",
   "execution_count": 6,
   "id": "58b66592-a94b-4289-9f52-a57c47ed5403",
   "metadata": {},
   "outputs": [
    {
     "name": "stdout",
     "output_type": "stream",
     "text": [
      "[[5 6]\n",
      " [3 4]\n",
      " [1 2]]\n"
     ]
    }
   ],
   "source": [
    "# 2D Array:\n",
    "\n",
    "# Reverse rows:\n",
    "arr = np.array([[1, 2], [3, 4], [5, 6]])\n",
    "print(arr[::-1])\n",
    "# [[5, 6]\n",
    "#  [3, 4]\n",
    "#  [1, 2]]\n"
   ]
  },
  {
   "cell_type": "code",
   "execution_count": 7,
   "id": "ceff920f-2382-49cf-a274-1234e1a512ba",
   "metadata": {},
   "outputs": [
    {
     "name": "stdout",
     "output_type": "stream",
     "text": [
      "[[2 1]\n",
      " [4 3]\n",
      " [6 5]]\n"
     ]
    }
   ],
   "source": [
    "# Reverse columns:\n",
    "print(arr[:, ::-1])\n",
    "# [[2, 1]\n",
    "#  [4, 3]\n",
    "#  [6, 5]]\n"
   ]
  },
  {
   "cell_type": "code",
   "execution_count": 10,
   "id": "451f9d61-0361-4c19-959b-ad2a26329eb2",
   "metadata": {},
   "outputs": [
    {
     "name": "stdout",
     "output_type": "stream",
     "text": [
      "int32\n"
     ]
    }
   ],
   "source": [
    "#  4. How can you determine the data type of elements in a NumPy array? Discuss the importance of data types \n",
    "# in memory management and performance.\n",
    "\n",
    "# Determining Data Type in NumPy:\n",
    "\n",
    "# Method: Use dtype attribute.\n",
    "arr = np.array([1, 2, 3])\n",
    "print(arr.dtype)  # int64\n",
    "# Importance: Data types determine how much memory is allocated and how data is interpreted,\n",
    "# affecting both performance and memory usage.\n",
    "\n"
   ]
  },
  {
   "cell_type": "code",
   "execution_count": 11,
   "id": "37c4bfde-7c98-4477-bf38-d80d7c604fa6",
   "metadata": {},
   "outputs": [],
   "source": [
    " # 5. Define ndarrays in NumPy and explain their key features. How do they differ from standard Python lists?\n",
    "\n",
    "# ndarrays in NumPy:\n",
    "\n",
    "# Definition: The ndarray (n-dimensional array) is a core data structure in NumPy, allowing for efficient array manipulation.\n",
    "\n",
    "# Key Features:\n",
    "\n",
    "# Homogeneity: All elements must be of the same type.\n",
    "\n",
    "# Multidimensional: Can handle more than one dimension.\n",
    "\n",
    "# Broadcasting: Supports element-wise operations.\n",
    "\n",
    "# Difference from Python Lists:\n",
    "\n",
    "# Fixed size and type.\n",
    "\n",
    "# Better performance for numerical operations."
   ]
  },
  {
   "cell_type": "code",
   "execution_count": 13,
   "id": "30e994a2-864e-4e5c-97e2-6b9d01c22a7d",
   "metadata": {},
   "outputs": [],
   "source": [
    " # 6. Analyze the performance benefits of NumPy arrays over Python lists for large-scale numerical operations.\n",
    "\n",
    "# Performance Benefits of NumPy Arrays:\n",
    "\n",
    "# Speed: NumPy operations are performed using optimized C code, leading to significant performance improvements.\n",
    "\n",
    "# Memory Usage: NumPy arrays use less memory by storing elements in contiguous blocks.\n",
    "import time\n",
    "list1 = list(range(100000))\n",
    "array1 = np.array(list1)\n"
   ]
  },
  {
   "cell_type": "code",
   "execution_count": 14,
   "id": "be074527-a456-4a45-a3ea-0ceff893b8a4",
   "metadata": {},
   "outputs": [
    {
     "name": "stdout",
     "output_type": "stream",
     "text": [
      "[[1 2]\n",
      " [3 4]]\n",
      "[1 2 3 4]\n"
     ]
    }
   ],
   "source": [
    "#  7. Compare vstack() and hstack() functions in NumPy. Provide examples demonstrating their usage and \n",
    "# output.\n",
    "# vstack(): Stacks arrays vertically (row-wise).\n",
    "\n",
    "# hstack(): Stacks arrays horizontally (column-wise).\n",
    "\n",
    "a = np.array([1, 2])\n",
    "b = np.array([3, 4])\n",
    "print(np.vstack((a, b)))\n",
    "# [[1, 2]\n",
    "#  [3, 4]]\n",
    "print(np.hstack((a, b)))\n",
    "# [1, 2, 3, 4]\n"
   ]
  },
  {
   "cell_type": "code",
   "execution_count": 15,
   "id": "f86ca07d-4059-4518-ad41-15eec04bc179",
   "metadata": {},
   "outputs": [],
   "source": [
    "#  8. Explain the differences between fliplr() and flipud() methods in NumPy, including their effects on various \n",
    "# array dimensions.\n",
    "\n",
    "# fliplr() vs flipud():\n",
    "\n",
    "# fliplr(): Flips array left-right.\n",
    "\n",
    "# flipud(): Flips array up-down."
   ]
  },
  {
   "cell_type": "code",
   "execution_count": 16,
   "id": "2a7d2489-6033-419c-8703-495b1abb5891",
   "metadata": {},
   "outputs": [
    {
     "name": "stdout",
     "output_type": "stream",
     "text": [
      "[[2 1]\n",
      " [4 3]\n",
      " [6 5]]\n",
      "[[5 6]\n",
      " [3 4]\n",
      " [1 2]]\n"
     ]
    }
   ],
   "source": [
    "arr = np.array([[1, 2], [3, 4], [5, 6]])\n",
    "print(np.fliplr(arr))\n",
    "# [[2, 1]\n",
    "#  [4, 3]\n",
    "#  [6, 5]]\n",
    "print(np.flipud(arr))\n",
    "# [[5, 6]\n",
    "#  [3, 4]\n",
    "#  [1, 2]]\n"
   ]
  },
  {
   "cell_type": "code",
   "execution_count": 17,
   "id": "89865dd0-2b24-434b-a09e-7ef5b67aef7a",
   "metadata": {},
   "outputs": [],
   "source": [
    " # 9. Discuss the functionality of the array_split() method in NumPy. How does it handle uneven splits?\n",
    "\n",
    "# array_split():\n",
    "\n",
    "# Functionality: Splits an array into multiple sub-arrays.\n",
    "\n",
    "# Uneven Splits: It handles uneven splits by distributing the extra elements to the earlier sub-arrays."
   ]
  },
  {
   "cell_type": "code",
   "execution_count": 18,
   "id": "185ce7cc-d8ed-4c5b-96d1-1afd53dacc39",
   "metadata": {},
   "outputs": [
    {
     "name": "stdout",
     "output_type": "stream",
     "text": [
      "[array([1, 2]), array([3, 4]), array([5])]\n"
     ]
    }
   ],
   "source": [
    "arr = np.array([1, 2, 3, 4, 5])\n",
    "print(np.array_split(arr, 3))\n",
    "# [array([1, 2]), array([3, 4]), array([5])]\n"
   ]
  },
  {
   "cell_type": "code",
   "execution_count": 21,
   "id": "874e86dd-f354-4578-853e-344658242e4e",
   "metadata": {},
   "outputs": [],
   "source": [
    "#  10. Explain the concepts of vectorization and broadcasting in NumPy. How do they contribute to efficient array \n",
    "# operations?\n",
    "\n",
    "# Vectorization and Broadcasting:\n",
    "\n",
    "# Vectorization: Allows for operations on entire arrays without explicit loops, enhancing speed.\n",
    "\n",
    "# Broadcasting: Enables operations on arrays of different shapes by expanding them to a common shape."
   ]
  },
  {
   "cell_type": "code",
   "execution_count": 22,
   "id": "5b108839-cc64-4979-bfb2-3c5b56dce9e2",
   "metadata": {},
   "outputs": [
    {
     "name": "stdout",
     "output_type": "stream",
     "text": [
      "[5 6 7]\n"
     ]
    }
   ],
   "source": [
    "a = np.array([1, 2, 3])\n",
    "b = np.array([4])\n",
    "print(a + b)  # [5, 6, 7]\n"
   ]
  },
  {
   "cell_type": "code",
   "execution_count": null,
   "id": "fcd06315-435d-4bbe-8f54-25086553d263",
   "metadata": {},
   "outputs": [],
   "source": []
  }
 ],
 "metadata": {
  "kernelspec": {
   "display_name": "Python 3 (ipykernel)",
   "language": "python",
   "name": "python3"
  },
  "language_info": {
   "codemirror_mode": {
    "name": "ipython",
    "version": 3
   },
   "file_extension": ".py",
   "mimetype": "text/x-python",
   "name": "python",
   "nbconvert_exporter": "python",
   "pygments_lexer": "ipython3",
   "version": "3.12.3"
  }
 },
 "nbformat": 4,
 "nbformat_minor": 5
}
