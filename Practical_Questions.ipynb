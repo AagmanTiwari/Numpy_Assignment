{
 "cells": [
  {
   "cell_type": "code",
   "execution_count": 2,
   "id": "fc55e56b-29dc-4120-9e66-5112cc525975",
   "metadata": {},
   "outputs": [
    {
     "name": "stdout",
     "output_type": "stream",
     "text": [
      "[[38 27 62]\n",
      " [22 77 80]\n",
      " [61 32 23]]\n",
      "[[38 22 61]\n",
      " [27 77 32]\n",
      " [62 80 23]]\n"
     ]
    }
   ],
   "source": [
    " # 1. Create a 3x3 NumPy array with random integers between 1 and 100. Then, interchange its rows and columns.\n",
    "\n",
    "# 3x3 Array and Transpose:\n",
    "import numpy as np\n",
    "arr = np.random.randint(1, 101, (3, 3))\n",
    "print(arr)\n",
    "print(arr.T)  # Interchanged rows and columns\n"
   ]
  },
  {
   "cell_type": "code",
   "execution_count": 4,
   "id": "43e2ea43-4e8a-487e-b483-8f52a25316a3",
   "metadata": {},
   "outputs": [
    {
     "name": "stdout",
     "output_type": "stream",
     "text": [
      "[[0 1 2 3 4]\n",
      " [5 6 7 8 9]]\n",
      "[[0 1]\n",
      " [2 3]\n",
      " [4 5]\n",
      " [6 7]\n",
      " [8 9]]\n"
     ]
    }
   ],
   "source": [
    " # 2. Generate a 1D NumPy array with 10 elements. Reshape it into a 2x5 array, then into a 5x2 array.\n",
    "# 1D to 2D and 2D to 5x2:\n",
    "\n",
    "arr = np.arange(10)\n",
    "arr_2x5 = arr.reshape(2, 5)\n",
    "arr_5x2 = arr.reshape(5, 2)\n",
    "print(arr_2x5)\n",
    "print(arr_5x2)\n"
   ]
  },
  {
   "cell_type": "code",
   "execution_count": 5,
   "id": "0aad6fa5-5757-4e5c-acfc-7c30ad7c4131",
   "metadata": {},
   "outputs": [
    {
     "name": "stdout",
     "output_type": "stream",
     "text": [
      "[[0.         0.         0.         0.         0.         0.        ]\n",
      " [0.         0.46920447 0.20220332 0.15423592 0.34204758 0.        ]\n",
      " [0.         0.42552798 0.17365341 0.77961091 0.19261237 0.        ]\n",
      " [0.         0.7024473  0.88446794 0.93094212 0.67600168 0.        ]\n",
      " [0.         0.02671028 0.81524705 0.29436145 0.25755243 0.        ]\n",
      " [0.         0.         0.         0.         0.         0.        ]]\n"
     ]
    }
   ],
   "source": [
    " # 3. Create a 4x4 NumPy array with random float values. Add a border of zeros around it, resulting in a 6x6 array.\n",
    "# 4x4 Array with Border:\n",
    "\n",
    "arr = np.random.rand(4, 4)\n",
    "arr_with_border = np.pad(arr, pad_width=1, mode='constant', constant_values=0)\n",
    "print(arr_with_border)\n"
   ]
  },
  {
   "cell_type": "code",
   "execution_count": 6,
   "id": "4193c3d8-d7fa-4066-99c4-9bee7f1cffcc",
   "metadata": {},
   "outputs": [
    {
     "name": "stdout",
     "output_type": "stream",
     "text": [
      "[10 15 20 25 30 35 40 45 50 55 60]\n"
     ]
    }
   ],
   "source": [
    " # 4. Using NumPy, create an array of integers from 10 to 60 with a step of 5.\n",
    "# Array with Step:\n",
    "\n",
    "arr = np.arange(10, 65, 5)\n",
    "print(arr)\n"
   ]
  },
  {
   "cell_type": "code",
   "execution_count": 7,
   "id": "781aec89-7454-455e-bb06-4c2ae04ddb05",
   "metadata": {},
   "outputs": [
    {
     "name": "stdout",
     "output_type": "stream",
     "text": [
      "['PYTHON' 'NUMPY' 'PANDAS'] ['python' 'numpy' 'pandas'] ['Python' 'Numpy' 'Pandas']\n"
     ]
    }
   ],
   "source": [
    "#  5. Create a NumPy array of strings ['python', 'numpy', 'pandas']. Apply different case transformations \n",
    "# (uppercase, lowercase, title case, etc.) to each element.\n",
    "\n",
    "# Case Transformations:\n",
    "arr = np.array(['python', 'numpy', 'pandas'])\n",
    "uppercase = np.char.upper(arr)\n",
    "lowercase = np.char.lower(arr)\n",
    "titlecase = np.char.title(arr)\n",
    "print(uppercase, lowercase, titlecase)\n"
   ]
  },
  {
   "cell_type": "code",
   "execution_count": 9,
   "id": "f5c4cbb6-2d9b-4044-b237-2f21ecf67a5f",
   "metadata": {},
   "outputs": [
    {
     "name": "stdout",
     "output_type": "stream",
     "text": [
      "['h e l l o' 'w o r l d']\n"
     ]
    }
   ],
   "source": [
    "#  6. Generate a NumPy array of words. Insert a space between each character of every word in the array.\n",
    "\n",
    "# Insert Spaces:\n",
    "words = np.array(['hello', 'world'])\n",
    "spaced_words = np.array([' '.join(list(word)) for word in words])\n",
    "print(spaced_words)\n"
   ]
  },
  {
   "cell_type": "code",
   "execution_count": 10,
   "id": "25dee7dc-fedb-404c-8e90-6595579a6dd5",
   "metadata": {},
   "outputs": [
    {
     "name": "stdout",
     "output_type": "stream",
     "text": [
      "[[ 6  8]\n",
      " [10 12]] [[-4 -4]\n",
      " [-4 -4]] [[ 5 12]\n",
      " [21 32]] [[0.2        0.33333333]\n",
      " [0.42857143 0.5       ]]\n"
     ]
    }
   ],
   "source": [
    " # 7. Create two 2D NumPy arrays and perform element-wise addition, subtraction, multiplication, and division.\n",
    "\n",
    "# Element-wise Operations:\n",
    "a = np.array([[1, 2], [3, 4]])\n",
    "b = np.array([[5, 6], [7, 8]])\n",
    "add = a + b\n",
    "sub = a - b\n",
    "mul = a * b\n",
    "div = a / b\n",
    "print(add, sub, mul, div)\n"
   ]
  },
  {
   "cell_type": "code",
   "execution_count": 12,
   "id": "33602ba2-36d3-4735-9c60-e4b9c9546913",
   "metadata": {},
   "outputs": [
    {
     "name": "stdout",
     "output_type": "stream",
     "text": [
      "[1. 1. 1. 1. 1.]\n"
     ]
    }
   ],
   "source": [
    "#  8. Use NumPy to create a 5x5 identity matrix, then extract its diagonal elements.\n",
    "\n",
    "# Identity Matrix and Diagonal:\n",
    "identity = np.eye(5)\n",
    "diagonal = np.diag(identity)\n",
    "print(diagonal)\n"
   ]
  },
  {
   "cell_type": "code",
   "execution_count": 14,
   "id": "7e828e04-6db8-4eac-9c80-e38894971337",
   "metadata": {},
   "outputs": [
    {
     "name": "stdout",
     "output_type": "stream",
     "text": [
      "[227, 281, 911, 443, 137, 337, 167, 499, 821, 883, 311, 139, 113, 757, 773, 857, 307, 907, 853, 163, 587]\n"
     ]
    }
   ],
   "source": [
    "#  9. Generate a NumPy array of 100 random integers between 0 and 1000. Find and display all prime numbers in \n",
    "# this array.\n",
    "\n",
    "# Find Primes:\n",
    "arr = np.random.randint(0, 1001, 100)\n",
    "primes = [num for num in arr if num > 1 and all(num % i != 0 for i in range(2, int(np.sqrt(num)) + 1))]\n",
    "print(primes)\n"
   ]
  },
  {
   "cell_type": "code",
   "execution_count": 16,
   "id": "64e6654c-d539-44e7-b08e-7aa4ee8a31b2",
   "metadata": {},
   "outputs": [
    {
     "name": "stdout",
     "output_type": "stream",
     "text": [
      "[23.571428571428573, 25.285714285714285, 26.571428571428573, 27.142857142857142, 31.0]\n"
     ]
    }
   ],
   "source": [
    "# 10. Create a NumPy array representing daily temperatures for a month. Calculate and display the weekly \n",
    "# averages.\n",
    "# Weekly Averages:\n",
    "\n",
    "temps = np.random.randint(15, 35, 30)  # Example daily temperatures\n",
    "weekly_avg = [np.mean(temps[i:i+7]) for i in range(0, 30, 7)]\n",
    "print(weekly_avg)\n"
   ]
  },
  {
   "cell_type": "code",
   "execution_count": null,
   "id": "abdca6ee-39ec-4806-9cb8-96d8510fff99",
   "metadata": {},
   "outputs": [],
   "source": []
  }
 ],
 "metadata": {
  "kernelspec": {
   "display_name": "Python 3 (ipykernel)",
   "language": "python",
   "name": "python3"
  },
  "language_info": {
   "codemirror_mode": {
    "name": "ipython",
    "version": 3
   },
   "file_extension": ".py",
   "mimetype": "text/x-python",
   "name": "python",
   "nbconvert_exporter": "python",
   "pygments_lexer": "ipython3",
   "version": "3.12.3"
  }
 },
 "nbformat": 4,
 "nbformat_minor": 5
}
